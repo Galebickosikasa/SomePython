{
  "nbformat": 4,
  "nbformat_minor": 0,
  "metadata": {
    "colab": {
      "name": "MergeSort.ipynb",
      "provenance": [],
      "authorship_tag": "ABX9TyP2kzOE0F+wYONTWtHp+bmg",
      "include_colab_link": true
    },
    "kernelspec": {
      "name": "python3",
      "display_name": "Python 3"
    }
  },
  "cells": [
    {
      "cell_type": "markdown",
      "metadata": {
        "id": "view-in-github",
        "colab_type": "text"
      },
      "source": [
        "<a href=\"https://colab.research.google.com/github/Galebickosikasa/SomePython/blob/master/MergeSort.ipynb\" target=\"_parent\"><img src=\"https://colab.research.google.com/assets/colab-badge.svg\" alt=\"Open In Colab\"/></a>"
      ]
    },
    {
      "cell_type": "code",
      "metadata": {
        "id": "08ypsPEiT60m",
        "colab_type": "code",
        "colab": {
          "base_uri": "https://localhost:8080/",
          "height": 85
        },
        "outputId": "bbb09350-1d11-47db-8b4b-6b0d59db3476"
      },
      "source": [
        "def merge (a, b):\n",
        "  n = len (a)\n",
        "  m = len (b)\n",
        "  i = 0\n",
        "  j = 0\n",
        "  ans = list ()\n",
        "  while (i < n and j < m):\n",
        "    if (a[i] < b[j]):\n",
        "      ans.append (a[i])\n",
        "      i += 1\n",
        "    else:\n",
        "      ans.append (b[j])\n",
        "      j += 1\n",
        "  while (i < n):\n",
        "    ans.append (a[i])\n",
        "    i += 1\n",
        "  while (j < m):\n",
        "    ans.append (b[j])\n",
        "    j += 1\n",
        "  return ans\n",
        "\n",
        "def mergeSort (a):\n",
        "  if (len (a) <= 1) :\n",
        "    return a\n",
        "  m = (len (a) - 1) // 2\n",
        "  x = list ()\n",
        "  y = list ()\n",
        "  for i in range (m + 1):\n",
        "    x.append (a[i])\n",
        "  for i in range (m + 1, len (a)):\n",
        "    y.append (a[i])\n",
        "  x = mergeSort (x)\n",
        "  y = mergeSort (y)\n",
        "  return merge (x, y)\n",
        "\n",
        "n = int (input ())\n",
        "a = list (map (int, input ().split ()))\n",
        "print (*a)\n",
        "a = mergeSort (a)\n",
        "print (*a)\n",
        "\n"
      ],
      "execution_count": 5,
      "outputs": [
        {
          "output_type": "stream",
          "text": [
            "12\n",
            "6 3 4 22 1 8 7 9 12 4 11 45\n",
            "6 3 4 22 1 8 7 9 12 4 11 45\n",
            "1 3 4 4 6 7 8 9 11 12 22 45\n"
          ],
          "name": "stdout"
        }
      ]
    }
  ]
}